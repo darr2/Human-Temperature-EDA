{
 "cells": [
  {
   "cell_type": "markdown",
   "metadata": {},
   "source": [
    "# What is the True Normal Human Body Temperature? \n",
    "\n",
    "#### Background\n",
    "\n",
    "The mean normal body temperature was held to be 37$^{\\circ}$C or 98.6$^{\\circ}$F for more than 120 years since it was first conceptualized and reported by Carl Wunderlich in a famous 1868 book. But, is this value statistically correct?"
   ]
  },
  {
   "cell_type": "markdown",
   "metadata": {},
   "source": [
    "<h3>Exercises</h3>\n",
    "\n",
    "<p>In this exercise, you will analyze a dataset of human body temperatures and employ the concepts of hypothesis testing, confidence intervals, and statistical significance.</p>\n",
    "\n",
    "<p>Answer the following questions <b>in this notebook below and submit to your Github account</b>.</p> \n",
    "\n",
    "<ol>\n",
    "<li>  Is the distribution of body temperatures normal? \n",
    "    <ul>\n",
    "    <li> Although this is not a requirement for the Central Limit Theorem to hold (read the introduction on Wikipedia's page about the CLT carefully: https://en.wikipedia.org/wiki/Central_limit_theorem), it gives us some peace of mind that the population may also be normally distributed if we assume that this sample is representative of the population.\n",
    "    <li> Think about the way you're going to check for the normality of the distribution. Graphical methods are usually used first, but there are also other ways: https://en.wikipedia.org/wiki/Normality_test\n",
    "    </ul>\n",
    "<li>  Is the sample size large? Are the observations independent?\n",
    "    <ul>\n",
    "    <li> Remember that this is a condition for the Central Limit Theorem, and hence the statistical tests we are using, to apply.\n",
    "    </ul>\n",
    "<li>  Is the true population mean really 98.6 degrees F?\n",
    "    <ul>\n",
    "    <li> First, try a bootstrap hypothesis test.\n",
    "    <li> Now, let's try frequentist statistical testing. Would you use a one-sample or two-sample test? Why?\n",
    "    <li> In this situation, is it appropriate to use the $t$ or $z$ statistic? \n",
    "    <li> Now try using the other test. How is the result be different? Why?\n",
    "    </ul>\n",
    "<li>  Draw a small sample of size 10 from the data and repeat both frequentist tests. \n",
    "    <ul>\n",
    "    <li> Which one is the correct one to use? \n",
    "    <li> What do you notice? What does this tell you about the difference in application of the $t$ and $z$ statistic?\n",
    "    </ul>\n",
    "<li>  At what temperature should we consider someone's temperature to be \"abnormal\"?\n",
    "    <ul>\n",
    "    <li> As in the previous example, try calculating everything using the boostrap approach, as well as the frequentist approach.\n",
    "    <li> Start by computing the margin of error and confidence interval. When calculating the confidence interval, keep in mind that you should use the appropriate formula for one draw, and not N draws.\n",
    "    </ul>\n",
    "<li>  Is there a significant difference between males and females in normal temperature?\n",
    "    <ul>\n",
    "    <li> What testing approach did you use and why?\n",
    "    <li> Write a story with your conclusion in the context of the original problem.\n",
    "    </ul>\n",
    "</ol>\n",
    "\n",
    "You can include written notes in notebook cells using Markdown: \n",
    "   - In the control panel at the top, choose Cell > Cell Type > Markdown\n",
    "   - Markdown syntax: http://nestacms.com/docs/creating-content/markdown-cheat-sheet\n",
    "\n",
    "#### Resources\n",
    "\n",
    "+ Information and data sources: http://www.amstat.org/publications/jse/datasets/normtemp.txt, http://www.amstat.org/publications/jse/jse_data_archive.htm\n",
    "+ Markdown syntax: http://nestacms.com/docs/creating-content/markdown-cheat-sheet\n",
    "\n",
    "****"
   ]
  },
  {
   "cell_type": "code",
   "execution_count": 1,
   "metadata": {},
   "outputs": [
    {
     "data": {
      "text/html": [
       "<div>\n",
       "<style scoped>\n",
       "    .dataframe tbody tr th:only-of-type {\n",
       "        vertical-align: middle;\n",
       "    }\n",
       "\n",
       "    .dataframe tbody tr th {\n",
       "        vertical-align: top;\n",
       "    }\n",
       "\n",
       "    .dataframe thead th {\n",
       "        text-align: right;\n",
       "    }\n",
       "</style>\n",
       "<table border=\"1\" class=\"dataframe\">\n",
       "  <thead>\n",
       "    <tr style=\"text-align: right;\">\n",
       "      <th></th>\n",
       "      <th>temperature</th>\n",
       "      <th>heart_rate</th>\n",
       "    </tr>\n",
       "  </thead>\n",
       "  <tbody>\n",
       "    <tr>\n",
       "      <th>count</th>\n",
       "      <td>130.000000</td>\n",
       "      <td>130.000000</td>\n",
       "    </tr>\n",
       "    <tr>\n",
       "      <th>mean</th>\n",
       "      <td>98.249231</td>\n",
       "      <td>73.761538</td>\n",
       "    </tr>\n",
       "    <tr>\n",
       "      <th>std</th>\n",
       "      <td>0.733183</td>\n",
       "      <td>7.062077</td>\n",
       "    </tr>\n",
       "    <tr>\n",
       "      <th>min</th>\n",
       "      <td>96.300000</td>\n",
       "      <td>57.000000</td>\n",
       "    </tr>\n",
       "    <tr>\n",
       "      <th>25%</th>\n",
       "      <td>97.800000</td>\n",
       "      <td>69.000000</td>\n",
       "    </tr>\n",
       "    <tr>\n",
       "      <th>50%</th>\n",
       "      <td>98.300000</td>\n",
       "      <td>74.000000</td>\n",
       "    </tr>\n",
       "    <tr>\n",
       "      <th>75%</th>\n",
       "      <td>98.700000</td>\n",
       "      <td>79.000000</td>\n",
       "    </tr>\n",
       "    <tr>\n",
       "      <th>max</th>\n",
       "      <td>100.800000</td>\n",
       "      <td>89.000000</td>\n",
       "    </tr>\n",
       "  </tbody>\n",
       "</table>\n",
       "</div>"
      ],
      "text/plain": [
       "       temperature  heart_rate\n",
       "count   130.000000  130.000000\n",
       "mean     98.249231   73.761538\n",
       "std       0.733183    7.062077\n",
       "min      96.300000   57.000000\n",
       "25%      97.800000   69.000000\n",
       "50%      98.300000   74.000000\n",
       "75%      98.700000   79.000000\n",
       "max     100.800000   89.000000"
      ]
     },
     "execution_count": 1,
     "metadata": {},
     "output_type": "execute_result"
    }
   ],
   "source": [
    "import pandas as pd\n",
    "\n",
    "df = pd.read_csv('data/human_body_temperature.csv')\n",
    "df.describe()"
   ]
  },
  {
   "cell_type": "code",
   "execution_count": 2,
   "metadata": {},
   "outputs": [
    {
     "data": {
      "text/plain": [
       "<Figure size 640x480 with 1 Axes>"
      ]
     },
     "metadata": {},
     "output_type": "display_data"
    },
    {
     "data": {
      "text/plain": [
       "NormaltestResult(statistic=2.703801433319203, pvalue=0.2587479863488254)"
      ]
     },
     "execution_count": 2,
     "metadata": {},
     "output_type": "execute_result"
    }
   ],
   "source": [
    "import numpy as np\n",
    "import matplotlib.pyplot as plt\n",
    "import seaborn as sns\n",
    "import scipy\n",
    "plt.hist('temperature', bins=int(130 ** 0.5), edgecolor='black', data=df)\n",
    "plt.show()\n",
    "scipy.stats.mstats.normaltest(df['temperature'])"
   ]
  },
  {
   "cell_type": "markdown",
   "metadata": {},
   "source": [
    "<p>\n",
    "   <b>1.</b> Shown above is the distribution of 130 samples for body temperature.\n",
    "   One thing that we notice here is that although there are outliers to the far right of the distribution, the \n",
    "   dstribution is still left skewed.  From applying the D'Agustino and Pearson normality test, we observe \n",
    "   that the obatined p-value is about 0.26, which is above the accepted threshold of &alpha;=0.05.  Therefore, <b>the \n",
    "   body temperatures in the given data frame are normally distributed.</b>\n",
    "</p>"
   ]
  },
  {
   "cell_type": "markdown",
   "metadata": {},
   "source": [
    "<p>\n",
    "    <b>2.</b> Because the number of samples is n = 130, this satisfies the rule of thumb that n &ge; 30 to assume independence.  Therefore our sample size is independent.\n",
    "</p>\n",
    "    "
   ]
  },
  {
   "cell_type": "markdown",
   "metadata": {},
   "source": [
    "<p>\n",
    "    <b>3.</b> In the following scenario, we propose the following hypotheses:\n",
    "    <ul>\n",
    "        <li>\n",
    "            H<sub>0</sub>:  &mu; $=$ 98.6$^{\\circ}$F\n",
    "        </li>\n",
    "        <li>\n",
    "            H<sub>A</sub>:  &mu; ${\\neq}$ 98.6$^{\\circ}$F\n",
    "        </li>\n",
    "    </ul>\n",
    "    Where H<sub>0</sub> is the null hypothesis and H<sub>A</sub> is the alternative hypothesis.\n",
    "    We will apply statistical tests to determine wether to reject or fail\n",
    "    to reject the null hypothesis.\n",
    "</p>"
   ]
  },
  {
   "cell_type": "code",
   "execution_count": 3,
   "metadata": {},
   "outputs": [
    {
     "data": {
      "image/png": "[encoded data removed]",
      "text/plain": [
       "<Figure size 432x288 with 1 Axes>"
      ]
     },
     "metadata": {},
     "output_type": "display_data"
    },
    {
     "name": "stdout",
     "output_type": "stream",
     "text": [
      "p =  0.0\n"
     ]
    }
   ],
   "source": [
    "def draw_bs_reps(data, func, size=1):\n",
    "    bs_replicates = np.empty(size)\n",
    "    for i in range(size):\n",
    "        bs_replicates[i] = func(np.random.choice(data, len(data)))\n",
    "    return bs_replicates\n",
    "\n",
    "body_temperature_reps = draw_bs_reps(data=df['temperature'], func=np.mean, size=10000)\n",
    "plt.xlabel('Body Temperature')\n",
    "plt.ylabel('Frequency')\n",
    "plt.hist(body_temperature_reps, bins=50)\n",
    "plt.show()\n",
    "reps_mean = np.mean(body_temperature_reps)\n",
    "print('p = ', np.sum(body_temperature_reps > 98.6)/len(body_temperature_reps))"
   ]
  },
  {
   "cell_type": "markdown",
   "metadata": {},
   "source": [
    "By applying the boostrap hypothesis test, the p-value given is 0.0.  Essentially, none of the sample temperature means in this distribution ever reach the true population mean of 98.6$^{\\circ}$F.  From this given test we can reject H<sub>0</sub>."
   ]
  },
  {
   "cell_type": "markdown",
   "metadata": {},
   "source": [
    "<p>\n",
    "    Since we are comparing a known mean (98.6$^{\\circ}$F) to the mean of the sample means, we will use a one-sample \n",
    "    test.  The number of samples in the dataset is 130, and so we will use the z-statistic.\n",
    "</p>"
   ]
  },
  {
   "cell_type": "code",
   "execution_count": 4,
   "metadata": {
    "scrolled": true
   },
   "outputs": [
    {
     "name": "stdout",
     "output_type": "stream",
     "text": [
      "z = -5.454823292364079\n",
      "p =  4.90215701411338e-08\n"
     ]
    }
   ],
   "source": [
    "z = (df['temperature'].mean() - 98.6)/(df['temperature'].std()/np.sqrt(130))\n",
    "p_value = scipy.stats.norm.sf(abs(z)) * 2\n",
    "print('z =', z)\n",
    "print('p = ', p_value)"
   ]
  },
  {
   "cell_type": "markdown",
   "metadata": {},
   "source": [
    "<p>\n",
    "    As we can see here, the p-value is less than 0.05, and we can reject H<sub>0</sub>.  Next we will use a t-    statistic.  Note that since we have 130 samples, the degrees of freedom will be 129.\n",
    "</p>"
   ]
  },
  {
   "cell_type": "code",
   "execution_count": 5,
   "metadata": {},
   "outputs": [
    {
     "name": "stdout",
     "output_type": "stream",
     "text": [
      "t = -5.4548232923645195\n",
      "p = 2.4106320415561276e-07\n"
     ]
    }
   ],
   "source": [
    "t = (df['temperature'].mean() - 98.6)/(df['temperature'].std()/np.sqrt(130))\n",
    "t, p_value = scipy.stats.ttest_1samp(df['temperature'], 98.6)\n",
    "print('t =', t)\n",
    "print('p =', p_value)"
   ]
  },
  {
   "cell_type": "markdown",
   "metadata": {},
   "source": [
    "<p>\n",
    "    After finding the t-statistic, we see the result is approximately equal to the z-statstic, however, the p-value is \n",
    "    different.  Although the p-value for the t-statistic is one order of magnitude greater than the z-statistic's p-\n",
    "    value, it is still well below 0.05, and thus we can reject the H<sub>0</sub> using the the t-statistic.\n",
    "</p>"
   ]
  },
  {
   "cell_type": "markdown",
   "metadata": {},
   "source": [
    "<p>\n",
    "    <b>4. </b>In the case of 10 samples, it is best to use the t-statistic.  The z-statistic is best used when you have \n",
    "    30 samples or more, otherwise your z and p_value results will not have the best accuracy.\n",
    "</p>"
   ]
  },
  {
   "cell_type": "code",
   "execution_count": 6,
   "metadata": {},
   "outputs": [
    {
     "name": "stdout",
     "output_type": "stream",
     "text": [
      "z =  -2.8397225903675323     p_value =  0.004515278114083073\n",
      "t =  -2.693997392578419     p_value =  0.024634692777530835\n"
     ]
    }
   ],
   "source": [
    "sample_10 = np.random.choice(df['temperature'], size=10)\n",
    "z = (sample_10.mean() - 98.6)/(sample_10.std()/np.sqrt(10))\n",
    "p_z = scipy.stats.norm.cdf(z) * 2\n",
    "t, p_t = scipy.stats.ttest_1samp(sample_10, 98.6)\n",
    "\n",
    "print('z = ', z, '    p_value = ', p_z)\n",
    "print('t = ', t, '    p_value = ', p_t)"
   ]
  },
  {
   "cell_type": "markdown",
   "metadata": {},
   "source": [
    "<p>\n",
    "    <b>5.</b> When we want to see if a given temperature is abmormal, we must find the confidence interval in relation to our given data set and determine if that given temperature is not in the confidence interval.\n",
    "</p>"
   ]
  },
  {
   "cell_type": "code",
   "execution_count": 7,
   "metadata": {},
   "outputs": [
    {
     "data": {
      "image/png": "[encoded data removed]",
      "text/plain": [
       "<Figure size 432x288 with 1 Axes>"
      ]
     },
     "metadata": {},
     "output_type": "display_data"
    },
    {
     "name": "stdout",
     "output_type": "stream",
     "text": [
      "Confidence Interval from bootstrap test:  [98.12153846 98.37694231]\n"
     ]
    }
   ],
   "source": [
    "body_temp_reps = draw_bs_reps(data=df['temperature'], func=np.mean, size=10000)\n",
    "conf_intvl = np.percentile(body_temp_reps, [2.5, 97.5])\n",
    "plt.hist(body_temp_reps, bins=50)\n",
    "plt.show()\n",
    "print('Confidence Interval from bootstrap test: ', conf_intvl)"
   ]
  },
  {
   "cell_type": "code",
   "execution_count": 8,
   "metadata": {},
   "outputs": [
    {
     "name": "stdout",
     "output_type": "stream",
     "text": [
      "Confidence Interal from z-statistic test:  [98.12319643 98.37526511]\n"
     ]
    }
   ],
   "source": [
    "z_value = scipy.stats.norm.ppf(0.975)\n",
    "margin_of_error = z_value * (df['temperature'].std()/np.sqrt(130))\n",
    "conf_intvl = np.array([df['temperature'].mean() - margin_of_error, df['temperature'].mean() + margin_of_error])\n",
    "print('Confidence Interal from z-statistic test: ', conf_intvl)"
   ]
  },
  {
   "cell_type": "markdown",
   "metadata": {},
   "source": [
    "<p>\n",
    "    As seen from both the boostrap test and frequentist test.  The mean 98.6$^{\\circ}$F is considered <b>abnormal</b> \n",
    "    since it clearly lies out out of both confidence intervals!\n",
    "</p>"
   ]
  },
  {
   "cell_type": "markdown",
   "metadata": {},
   "source": [
    "<p>\n",
    "    <b>6. Is there a significant difference between males and females in normal temperature?</b>\n",
    "    </p>"
   ]
  },
  {
   "cell_type": "markdown",
   "metadata": {},
   "source": [
    "<p>\n",
    "    For this scenario, we tested the following hypothesis:\n",
    "    <ul>\n",
    "        <li>\n",
    "            H<sub>0</sub>: &mu;<sub>F</sub> $-$ &mu;<sub>M</sub> $=$ 0\n",
    "        </li>\n",
    "    </ul>\n",
    "    Where where subscripts M and F are male and female, respectively.\n",
    "    First and foremost, we determined the means of the male and female body temperatures given in the dataset and took their difference.  The difference in the means is the statisic of interest since we want to find if the difference between the male and female body temperatures are significant.  To test the significance, we assumed a 95% confidence level and determined the z-statistic to be rougly 2.29 and the corresponding p-value to be 0.02.  Since 0.02 ${\\lt}$ 0.05, we found that there is a significant difference in the male and female body temperatures.  Because of this, we rejected H<sub>0</sub>. \n",
    "</p>"
   ]
  },
  {
   "cell_type": "code",
   "execution_count": 9,
   "metadata": {
    "scrolled": true
   },
   "outputs": [
    {
     "name": "stdout",
     "output_type": "stream",
     "text": [
      "p_value from z-statistic test:  0.02228736076067726\n",
      "z_score value:  2.285434538165274\n"
     ]
    }
   ],
   "source": [
    "body_temp_males = df[df['gender'] == 'M']\n",
    "body_temp_females = df[df['gender'] == 'F']\n",
    "\n",
    "m_temp_mean = body_temp_males.temperature.mean()\n",
    "f_temp_mean = body_temp_females.temperature.mean()\n",
    "\n",
    "diff_mean = f_temp_mean - m_temp_mean\n",
    "\n",
    "m_temp_var = body_temp_males.temperature.var()\n",
    "f_temp_var = body_temp_females.temperature.var()\n",
    "\n",
    "se = np.sqrt((m_temp_var/65) + (f_temp_var/65))\n",
    "\n",
    "z_stat = (diff_mean - 0)/se\n",
    "p_value = scipy.stats.norm.sf(abs(z_stat)) * 2\n",
    "print('p_value from z-statistic test: ', p_value)\n",
    "print('z_score value: ', z_stat)"
   ]
  },
  {
   "cell_type": "markdown",
   "metadata": {},
   "source": [
    "<p>\n",
    "    The testing approach used in in determining the significant difference between male and female body temperatures \n",
    "    was the z-test.  The reason this was chosen was because the two samples of males and females both had sample sizes \n",
    "    of 65, which is greater than 30.\n",
    "</p>"
   ]
  }
 ],
 "metadata": {
  "kernelspec": {
   "display_name": "Python 3",
   "language": "python",
   "name": "python3"
  },
  "language_info": {
   "codemirror_mode": {
    "name": "ipython",
    "version": 3
   },
   "file_extension": ".py",
   "mimetype": "text/x-python",
   "name": "python",
   "nbconvert_exporter": "python",
   "pygments_lexer": "ipython3",
   "version": "3.6.5"
  }
 },
 "nbformat": 4,
 "nbformat_minor": 1
}
